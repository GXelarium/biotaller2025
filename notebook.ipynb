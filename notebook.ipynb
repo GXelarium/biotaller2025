{
 "cells": [
  {
   "cell_type": "markdown",
   "id": "e0eb95ab",
   "metadata": {},
   "source": [
    "# Aprendizaje automático para datos genómicos: predicción de bacterias resistentes a antibióticos"
   ]
  },
  {
   "cell_type": "markdown",
   "id": "25fde1f0",
   "metadata": {},
   "source": [
    "Bienvenido a la segunda sesión del **Taller**. Hoy, construiremos modelos\n",
    "de predicción de resistencia usando datos de tres fuentes diferentes:\n",
    "\n",
    "1. Genes con funciones conocidas.\n",
    "2. Genes con funciones conocidas y desconocidas.\n",
    "3. SNPs o mutaciones puntuales.\n",
    "\n",
    "¿Cuál será el mejor?"
   ]
  },
  {
   "cell_type": "markdown",
   "id": "2c5a74b3",
   "metadata": {},
   "source": [
    "## Resumen de la sesión anterior"
   ]
  },
  {
   "cell_type": "markdown",
   "id": "cdb552aa",
   "metadata": {},
   "source": [
    "En la sesión anterior, aprendimos cómo:\n",
    "\n",
    "1. Precargar lecturas de NCBI SRA con `prefetch`.\n",
    "2. Extraer lecturas precargadas con `fasterq-dump`.\n",
    "3. Ensamblar genomas con `spades.py`.\n",
    "4. Anotar genomas con `prokka`.\n",
    "5. Extraer proteínas hipotéticas con `seqtk`.\n",
    "\n",
    "La tarea fue repetir todos estos pasos sobre todas las muestras.\n",
    "\n",
    "Una posible solución se muestra a continuación (**ALERTA**: la ejecución es\n",
    "tardada)."
   ]
  },
  {
   "cell_type": "code",
   "execution_count": null,
   "id": "d03e85e9",
   "metadata": {},
   "outputs": [],
   "source": [
    "%%bash\n",
    "\n",
    "# Crear carpetas para datos\n",
    "mkdir data\n",
    "mkdir data/reads data/genomes data/annotations\n",
    "\n",
    "# Cada fila de metadata.tsv contiene cuatro valores separados por tabulador\n",
    "while read -r sample read mic phenotype; do\n",
    "\n",
    "  # 1. Precargar lecturas\n",
    "  prefetch -O data/reads ${read}\n",
    "\n",
    "  # 2. Extraer lecturas\n",
    "  fasterq-dump -O data/reads data/reads/${read}\n",
    "\n",
    "  # 3. Ensamblar lecturas en contigs\n",
    "  spades.py --isolate \\\n",
    "    -1 data/reads/${read}_1.fastq \\\n",
    "    -2 data/reads/${read}_2.fastq \\\n",
    "    -o data/genomes/${sample}\n",
    "\n",
    "  # 4. Anotar el genoma ensamblado\n",
    "  prokka --outdir data/annotations/${sample} \\\n",
    "    --prefix ${sample} \\\n",
    "    --locustag ${sample} \\\n",
    "    --genus Mycoplasmoides \\\n",
    "    --species genitalium \\\n",
    "    --strain ${sample} \\\n",
    "    --mincontiglen 1000 \\\n",
    "    data/genomes/${sample}/contigs.fasta\n",
    "\n",
    "  # 5. Extraer las proteínas hipotéticas a un FASTA aparte\n",
    "  grep 'hypothetical protein' data/annotations/${sample}/${sample}.tsv | \\\n",
    "    cut -f 1 | \\\n",
    "    seqtk subseq data/annotations/${sample}/${sample}.faa - \\\n",
    "    > data/annotations/${sample}/${sample}.hypothetical.faa\n",
    "\n",
    "done < metadata.tsv"
   ]
  },
  {
   "cell_type": "markdown",
   "id": "b753819a",
   "metadata": {},
   "source": [
    "En lugar de correr la celda anterior, descarga los resultados precalculados."
   ]
  },
  {
   "cell_type": "code",
   "execution_count": null,
   "id": "e5bd30e6",
   "metadata": {},
   "outputs": [],
   "source": [
    "!wget 'https://github.com/aapashkov/biotaller2025/releases/latest/download/preprocessing.zip'\n",
    "!unzip 'preprocessing.zip'"
   ]
  },
  {
   "cell_type": "markdown",
   "id": "c7ad88fe",
   "metadata": {},
   "source": [
    "## Intento 1: usando funciones para clasificar resistencia"
   ]
  },
  {
   "cell_type": "markdown",
   "id": "c4a13824",
   "metadata": {},
   "source": [
    "Necesitaremos matplotlib para poder hacer visualizaciones."
   ]
  },
  {
   "cell_type": "code",
   "execution_count": null,
   "id": "5ecbbee7",
   "metadata": {},
   "outputs": [],
   "source": [
    "%pip install -q matplotlib"
   ]
  },
  {
   "cell_type": "markdown",
   "id": "31d59766",
   "metadata": {},
   "source": [
    "Prokka nos proporciona los nombres de genes con funciones conocidas.\n",
    "\n",
    "Una primera idea para crear un modelo de predicción sería utilizar estas\n",
    "funciones como atributos.\n",
    "\n",
    "Primero, carguemos las etiquetas que deseamos predecir, es decir, los fenotipos\n",
    "de \"resistente\" y \"susceptible\".\n",
    "\n",
    "Codificaremos \"resistente\" como 1 y \"susceptible\" como 0."
   ]
  },
  {
   "cell_type": "code",
   "execution_count": null,
   "id": "f1d1abd5",
   "metadata": {},
   "outputs": [],
   "source": []
  },
  {
   "cell_type": "markdown",
   "id": "90f2be9d",
   "metadata": {},
   "source": [
    "Ahora cargaremos las funciones predichas por Prokka.\n",
    "\n",
    "Para ello, leeremos cada archivo TSV de Prokka y creamos una tabla donde la\n",
    "primera columna almacena la muestra y la segunda guarda las funciones de la\n",
    "muestra."
   ]
  },
  {
   "cell_type": "code",
   "execution_count": null,
   "id": "d16700ee",
   "metadata": {},
   "outputs": [],
   "source": []
  },
  {
   "cell_type": "markdown",
   "id": "0bb3e559",
   "metadata": {},
   "source": [
    "Ahora, para transformar estos datos en algo que un modelo pueda utilizar para\n",
    "entrenar, realizaremos una tabulación cruzada de la tabla de funciones."
   ]
  },
  {
   "cell_type": "code",
   "execution_count": null,
   "id": "a37eab62",
   "metadata": {},
   "outputs": [],
   "source": []
  },
  {
   "cell_type": "markdown",
   "id": "eaf1ffe4",
   "metadata": {},
   "source": [
    "Antes de crear nuestro modelo, vamos a evaluar la importancia de cada función\n",
    "respecto al fenotipo utilizando la información mutua.\n",
    "\n",
    "Visualizamos las 20 funciones más importantes."
   ]
  },
  {
   "cell_type": "code",
   "execution_count": null,
   "id": "c92749f3",
   "metadata": {},
   "outputs": [],
   "source": []
  },
  {
   "cell_type": "code",
   "execution_count": null,
   "id": "bdcdc1ba",
   "metadata": {},
   "outputs": [],
   "source": []
  },
  {
   "cell_type": "markdown",
   "id": "5be4a3ac",
   "metadata": {},
   "source": [
    "Podemos crear ahora un modelo de clasificación.\n",
    "\n",
    "Usaremos las 6 variables más importantes."
   ]
  },
  {
   "cell_type": "code",
   "execution_count": null,
   "id": "52b2faab",
   "metadata": {},
   "outputs": [],
   "source": []
  },
  {
   "cell_type": "markdown",
   "id": "7c63b4a6",
   "metadata": {},
   "source": [
    "El modelo está teniendo dificultades para poder clasificar.\n",
    "\n",
    "¿Y si agregamos las proteínas con funciones desconocidas?"
   ]
  },
  {
   "cell_type": "markdown",
   "id": "a1db0439",
   "metadata": {},
   "source": [
    "## Intento 2: agregando funciones desconocidas mediante homología"
   ]
  },
  {
   "cell_type": "markdown",
   "id": "b20812a3",
   "metadata": {},
   "source": [
    "¿Cómo podemos agrupar proteínas por categoría si desconocemos sus funciones?\n",
    "\n",
    "El secreto es el parentesco (**homología**) entre las secuencias:\n",
    "\n",
    "- **Genes homólogos**: par de genes con **secuencia similar** y que muy\n",
    "probablemente poseen la **misma función**.\n",
    "- **Genes ortólogos**: par de genes homólogos presentes en **genomas diferentes**.\n",
    "- **Genes parálogos**: par de genes homólogos presentes en el **mismo genoma**.\n",
    "\n",
    "**Proteinortho** es un programa que identifica proteínas ortólogas y parálogas\n",
    "a partir de un conjunto de proteínas de entrada."
   ]
  },
  {
   "cell_type": "code",
   "execution_count": null,
   "id": "31bfd768",
   "metadata": {},
   "outputs": [],
   "source": [
    "%%bash\n",
    "\n",
    "# Crear carpeta de salida para ortólogos de proteínas con funciones desconocidas\n",
    "mkdir data/orthologs\n",
    "cd data/orthologs\n",
    "\n",
    "# Corremos Proteinortho sobre las proteínas hipotéticas\n",
    "proteinortho ../annotations/*/*.hypothetical.faa"
   ]
  },
  {
   "cell_type": "markdown",
   "id": "60b67a4e",
   "metadata": {},
   "source": [
    "Cargamos la table de proteínas hipotéticas y la ajustamos a un formato análogo\n",
    "al de la tabla de funciones."
   ]
  },
  {
   "cell_type": "code",
   "execution_count": null,
   "id": "f2a2aceb",
   "metadata": {},
   "outputs": [],
   "source": []
  },
  {
   "cell_type": "markdown",
   "id": "a1660946",
   "metadata": {},
   "source": [
    "Pegamos esta tabla a la tabla de funciones."
   ]
  },
  {
   "cell_type": "code",
   "execution_count": null,
   "id": "15be5ad7",
   "metadata": {},
   "outputs": [],
   "source": []
  },
  {
   "cell_type": "markdown",
   "id": "26c9f7b8",
   "metadata": {},
   "source": [
    "Veamos las variables más importantes."
   ]
  },
  {
   "cell_type": "code",
   "execution_count": null,
   "id": "4412d06d",
   "metadata": {},
   "outputs": [],
   "source": []
  },
  {
   "cell_type": "markdown",
   "id": "5a312dbe",
   "metadata": {},
   "source": [
    "Probemos un modelo con las 20 variables más importantes."
   ]
  },
  {
   "cell_type": "code",
   "execution_count": null,
   "id": "32d0c9e3",
   "metadata": {},
   "outputs": [],
   "source": []
  },
  {
   "cell_type": "markdown",
   "id": "0e22fe97",
   "metadata": {},
   "source": [
    "¿Qué tal si probamos trabajar con mutaciones en lugar de genes o proteínas?"
   ]
  },
  {
   "cell_type": "markdown",
   "id": "2159cb71",
   "metadata": {},
   "source": [
    "## Intento 3: modelo basado en mutaciones o SNPs"
   ]
  },
  {
   "cell_type": "markdown",
   "id": "64cbb7e9",
   "metadata": {},
   "source": [
    "Para crear un modelo basado en SNPs, primero necesitamos crear un FASTA por cada\n",
    "función única.\n",
    "\n",
    "Para eso, creamos un archivo con la lista de funciones."
   ]
  },
  {
   "cell_type": "code",
   "execution_count": null,
   "id": "bd5097bf",
   "metadata": {},
   "outputs": [],
   "source": []
  },
  {
   "cell_type": "markdown",
   "id": "43adad17",
   "metadata": {},
   "source": [
    "Creamos los FASTAs con seqtk. Por cada función, habrá un archivo llamado\n",
    "`data/snps/funcion.unaligned.fasta`."
   ]
  },
  {
   "cell_type": "code",
   "execution_count": null,
   "id": "e0185562",
   "metadata": {},
   "outputs": [],
   "source": [
    "%%bash\n",
    "mkdir -p data/snps\n",
    "\n",
    "while read -r function; do\n",
    "\n",
    "  filename=data/snps/$(tr '/' '_' <<< \"${function}\" | tr ' ' '_').unaligned.fasta\n",
    "\n",
    "  cat data/annotations/*/*.tsv | \\\n",
    "    grep -F \"${function}\" | \\\n",
    "    cut -f 1 | \\\n",
    "    seqtk subseq <(cat data/annotations/*/*.ffn) - \\\n",
    "    > \"${filename}\"\n",
    "\n",
    "done < data/functions.txt"
   ]
  },
  {
   "cell_type": "markdown",
   "id": "04033119",
   "metadata": {},
   "source": [
    "Usamos MAFFT para alinear los genes de cada función."
   ]
  },
  {
   "cell_type": "code",
   "execution_count": null,
   "id": "236eb270",
   "metadata": {},
   "outputs": [],
   "source": [
    "%%bash\n",
    "\n",
    "for unaligned in data/snps/*.unaligned.fasta; do\n",
    "  function=$(basename \"${unaligned}\" .unaligned.fasta)\n",
    "  aligned=\"data/snps/${function}.aligned.fasta\"\n",
    "  mafft \"${unaligned}\" > \"${aligned}\" 2> /dev/null\n",
    "done"
   ]
  },
  {
   "cell_type": "markdown",
   "id": "c99898ff",
   "metadata": {},
   "source": [
    "Finalmente, usamos snp-sites para identificar los SNPs."
   ]
  },
  {
   "cell_type": "code",
   "execution_count": null,
   "id": "91caa558",
   "metadata": {},
   "outputs": [],
   "source": [
    "%%bash\n",
    "for aligned in data/snps/*.aligned.fasta; do\n",
    "  function=$(basename \"${aligned}\" .aligned.fasta)\n",
    "  snps=\"data/snps/${function}.vcf\"\n",
    "  snp-sites -v -c \"${aligned}\" -o \"${snps}\"\n",
    "done"
   ]
  },
  {
   "cell_type": "markdown",
   "id": "f2f749c0",
   "metadata": {},
   "source": [
    "Vamos a crear una función que cargue un archivo VCF en un formato compatible para entrenamiento."
   ]
  },
  {
   "cell_type": "code",
   "execution_count": null,
   "id": "f567fe09",
   "metadata": {},
   "outputs": [],
   "source": []
  },
  {
   "cell_type": "markdown",
   "id": "4c117408",
   "metadata": {},
   "source": [
    "Usaremos la función `glob` para cargar todos los archivos VCF en una tabla."
   ]
  },
  {
   "cell_type": "code",
   "execution_count": null,
   "id": "853ae806",
   "metadata": {},
   "outputs": [],
   "source": []
  },
  {
   "cell_type": "markdown",
   "id": "4bbaf00a",
   "metadata": {},
   "source": [
    "Veamos las 20 variables más importantes."
   ]
  },
  {
   "cell_type": "code",
   "execution_count": null,
   "id": "10279aef",
   "metadata": {},
   "outputs": [],
   "source": []
  },
  {
   "cell_type": "markdown",
   "id": "c2131800",
   "metadata": {},
   "source": [
    "Veamos el rendimiento del modelo usando las 20 mejores variables."
   ]
  },
  {
   "cell_type": "code",
   "execution_count": null,
   "id": "f0223d83",
   "metadata": {},
   "outputs": [],
   "source": []
  },
  {
   "cell_type": "markdown",
   "id": "30976756",
   "metadata": {},
   "source": [
    "Probemos algo diferente: ¿qué tal si en lugar de pasarle todos los SNPs\n",
    "de todos los genes, entrenamos un modelo con los SNPs de cada gen?"
   ]
  },
  {
   "cell_type": "code",
   "execution_count": null,
   "id": "ef43d6bd",
   "metadata": {},
   "outputs": [],
   "source": []
  },
  {
   "cell_type": "markdown",
   "id": "027c1fbf",
   "metadata": {},
   "source": [
    "Tabulamos en una tabla y obtenemos los mejores modelos."
   ]
  },
  {
   "cell_type": "code",
   "execution_count": null,
   "id": "45036251",
   "metadata": {},
   "outputs": [],
   "source": []
  },
  {
   "cell_type": "markdown",
   "id": "190ca23e",
   "metadata": {},
   "source": [
    "---"
   ]
  },
  {
   "cell_type": "markdown",
   "id": "ef327a31",
   "metadata": {},
   "source": [
    "## ¿Dónde seguir aprendiendo/practicando?"
   ]
  },
  {
   "cell_type": "markdown",
   "id": "756485a7",
   "metadata": {},
   "source": [
    "- Talleres de The Carpentries:\n",
    "    - Pangenómica: https://carpentries-incubator.github.io/pangenomics-workshop/\n",
    "    - Minería Genómica: https://carpentries-incubator.github.io/genome-mining/\n",
    "    - Metagenómica: https://carpentries-lab.github.io/metagenomics-workshop/\n",
    "- Reto CAMDA 2025, incluye concurso de predicción de bacterias resistentes (>6000 genomas): https://bipress.boku.ac.at/camda2025/"
   ]
  }
 ],
 "metadata": {
  "kernelspec": {
   "display_name": "Python 3",
   "language": "python",
   "name": "python3"
  },
  "language_info": {
   "codemirror_mode": {
    "name": "ipython",
    "version": 3
   },
   "file_extension": ".py",
   "mimetype": "text/x-python",
   "name": "python",
   "nbconvert_exporter": "python",
   "pygments_lexer": "ipython3",
   "version": "3.10.12"
  }
 },
 "nbformat": 4,
 "nbformat_minor": 5
}
